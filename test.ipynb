{
 "cells": [
  {
   "cell_type": "code",
   "execution_count": null,
   "id": "399bab2a-d852-4de1-8eb2-89cd2f06bbf7",
   "metadata": {},
   "outputs": [],
   "source": [
    "# hello edit 2\n"
   ]
  },
  {
   "cell_type": "code",
   "execution_count": 1,
   "id": "07f50980-dd14-400f-848c-71e5e6b05eec",
   "metadata": {},
   "outputs": [
    {
     "name": "stdout",
     "output_type": "stream",
     "text": [
      "[1] \"hello\"\n"
     ]
    }
   ],
   "source": [
    "print(\"hello\")"
   ]
  },
  {
   "cell_type": "code",
   "execution_count": null,
   "id": "123307ce-cdd4-4541-b065-4bfca20b0272",
   "metadata": {},
   "outputs": [],
   "source": []
  }
 ],
 "metadata": {
  "kernelspec": {
   "display_name": "R",
   "language": "R",
   "name": "ir"
  },
  "language_info": {
   "codemirror_mode": "r",
   "file_extension": ".r",
   "mimetype": "text/x-r-source",
   "name": "R",
   "pygments_lexer": "r",
   "version": "4.3.3"
  }
 },
 "nbformat": 4,
 "nbformat_minor": 5
}
